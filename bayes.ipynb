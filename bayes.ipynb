{
 "cells": [
  {
   "cell_type": "code",
   "execution_count": 1,
   "metadata": {},
   "outputs": [
    {
     "name": "stderr",
     "output_type": "stream",
     "text": [
      "WARNING (theano.configdefaults): g++ not available, if using conda: `conda install m2w64-toolchain`\n",
      "C:\\Users\\dcsbhr\\AppData\\Local\\Continuum\\anaconda3\\envs\\edward_env\\lib\\site-packages\\theano\\configdefaults.py:560: UserWarning: DeprecationWarning: there is no c++ compiler.This is deprecated and with Theano 0.11 a c++ compiler will be mandatory\n",
      "  warnings.warn(\"DeprecationWarning: there is no c++ compiler.\"\n",
      "WARNING (theano.configdefaults): g++ not detected ! Theano will be unable to execute optimized C-implementations (for both CPU and GPU) and will default to Python implementations. Performance will be severely degraded. To remove this warning, set Theano flags cxx to an empty string.\n",
      "WARNING (theano.tensor.blas): Using NumPy C-API based implementation for BLAS functions.\n"
     ]
    }
   ],
   "source": [
    "import pymc3 as pm\n",
    "import pandas as pd\n",
    "import numpy as np\n",
    "\n",
    "%matplotlib inline\n",
    "\n",
    "import matplotlib\n",
    "import numpy as np\n",
    "import matplotlib.pyplot as plt"
   ]
  },
  {
   "cell_type": "code",
   "execution_count": 2,
   "metadata": {},
   "outputs": [],
   "source": [
    "data = pd.read_excel('./data/Book.xlsx')"
   ]
  },
  {
   "cell_type": "code",
   "execution_count": 3,
   "metadata": {},
   "outputs": [],
   "source": [
    "mins = []\n",
    "for r in range(len(data)):\n",
    "    mins.append(data.iloc[r]['time']//600) \n",
    "    \n",
    "data['minute'] = mins"
   ]
  },
  {
   "cell_type": "code",
   "execution_count": 4,
   "metadata": {},
   "outputs": [
    {
     "name": "stdout",
     "output_type": "stream",
     "text": [
      "              time    V(vref)  Temperature  pH  minute\n",
      "0         0.000000   5.790837           15   7     0.0\n",
      "1       229.001459   5.791682           15   7     0.0\n",
      "2       459.000006   5.792004           15   7     0.0\n",
      "3       688.664300   5.792239           15   7     1.0\n",
      "4       910.053687   5.792425           15   7     1.0\n",
      "5      1139.001983   5.792590           15   7     1.0\n",
      "6      1369.000011   5.792736           15   7     2.0\n",
      "7      1599.000000   5.792868           15   7     2.0\n",
      "8      1820.161061   5.792984           15   7     3.0\n",
      "9      2049.003032   5.793096           15   7     3.0\n",
      "10     2279.000021   5.793200           15   7     3.0\n",
      "11     2509.000000   5.793298           15   7     4.0\n",
      "12     2730.375810   5.793387           15   7     4.0\n",
      "13     2959.005129   5.793475           15   7     4.0\n",
      "14     3189.000042   5.793558           15   7     5.0\n",
      "15     3419.000000   5.793638           15   7     5.0\n",
      "16     3640.805306   5.793712           15   7     6.0\n",
      "17     3869.009323   5.793785           15   7     6.0\n",
      "18     4099.000083   5.793856           15   7     6.0\n",
      "19     4329.000001   5.793924           15   7     7.0\n",
      "20     4551.664300   5.793988           15   7     7.0\n",
      "21     4779.017712   5.794052           15   7     7.0\n",
      "22     5009.000165   5.794114           15   7     8.0\n",
      "23     5239.000001   5.794174           15   7     8.0\n",
      "24     5462.664300   5.794231           15   7     9.0\n",
      "25     5689.034489   5.794287           15   7     9.0\n",
      "26     5919.000329   5.794342           15   7     9.0\n",
      "27     6149.000001   5.794396           15   7    10.0\n",
      "28     6373.664300   5.794448           15   7    10.0\n",
      "29     6599.068043   5.794498           15   7    10.0\n",
      "...            ...        ...          ...  ..     ...\n",
      "9902  36869.000001  19.546050           65   7    61.0\n",
      "9903  37091.664300  19.546100           65   7    61.0\n",
      "9904  37319.017712  19.546140           65   7    62.0\n",
      "9905  37549.000165  19.546180           65   7    62.0\n",
      "9906  37779.000001  19.546230           65   7    62.0\n",
      "9907  38002.664300  19.546270           65   7    63.0\n",
      "9908  38229.034489  19.546300           65   7    63.0\n",
      "9909  38459.000329  19.546340           65   7    64.0\n",
      "9910  38689.000001  19.546380           65   7    64.0\n",
      "9911  38913.664300  19.546410           65   7    64.0\n",
      "9912  39139.068043  19.546450           65   7    65.0\n",
      "9913  39369.000656  19.546480           65   7    65.0\n",
      "9914  39599.000001  19.546510           65   7    65.0\n",
      "9915  39824.664300  19.546550           65   7    66.0\n",
      "9916  40049.135152  19.546570           65   7    66.0\n",
      "9917  40279.001000  19.546600           65   7    67.0\n",
      "9918  40509.000002  19.546630           65   7    67.0\n",
      "9919  40735.664300  19.546660           65   7    67.0\n",
      "9920  40959.269370  19.546690           65   7    68.0\n",
      "9921  41189.001066  19.546710           65   7    68.0\n",
      "9922  41419.000002  19.546740           65   7    69.0\n",
      "9923  41646.664300  19.546760           65   7    69.0\n",
      "9924  41869.537806  19.546790           65   7    69.0\n",
      "9925  42099.001197  19.546810           65   7    70.0\n",
      "9926  42329.000003  19.546830           65   7    70.0\n",
      "9927  42557.664300  19.546850           65   7    70.0\n",
      "9928  42780.000000  19.546870           65   7    71.0\n",
      "9929  43009.001459  19.546890           65   7    71.0\n",
      "9930  43198.664300  19.546910           65   7    71.0\n",
      "9931  43199.000000  19.546910           65   7    71.0\n",
      "\n",
      "[9932 rows x 5 columns]\n"
     ]
    },
    {
     "data": {
      "text/plain": [
       "[<matplotlib.lines.Line2D at 0x2564ddc6b00>]"
      ]
     },
     "execution_count": 4,
     "metadata": {},
     "output_type": "execute_result"
    },
    {
     "data": {
      "image/png": "[encoded data removed]",
      "text/plain": [
       "<Figure size 504x504 with 1 Axes>"
      ]
     },
     "metadata": {
      "needs_background": "light"
     },
     "output_type": "display_data"
    }
   ],
   "source": [
    "print(data)\n",
    "x = data[data['Temperature'] == 40]['minute']\n",
    "y = data[data['Temperature'] == 40]['V(vref)']\n",
    "temp = np.array(data['Temperature'])\n",
    "time = np.array(data['minute'])\n",
    "#y = data[data[]]\n",
    "#fig = plt.figure(figsize=(7, 7))\n",
    "#ax = fig.add_subplot(111, xlabel='x', ylabel='y', title='Generated data and underlying model')\n",
    "#ax.plot(data['time'], data['V(vref)'], 'x', label='sampled data')\n",
    "#ax.plot(x, true_regression_line, label='true regression line', lw=2.)\n",
    "#plt.legend(loc=0);\n",
    "fig = plt.figure(figsize=(7, 7))\n",
    "ax = fig.add_subplot(111,  xlabel='x', ylabel='y', title='Generated data and underlying model')\n",
    "ax.plot(x, y, 'x', label='sampled data')"
   ]
  },
  {
   "cell_type": "code",
   "execution_count": 40,
   "metadata": {},
   "outputs": [
    {
     "name": "stderr",
     "output_type": "stream",
     "text": [
      "Multiprocess sampling (4 chains in 4 jobs)\n",
      "CompoundStep\n",
      ">Metropolis: [vref_sd]\n",
      ">Metropolis: [epsilon]\n",
      ">Metropolis: [beta]\n",
      ">Metropolis: [alpha]\n",
      "Sampling 4 chains: 100%|███████████████████████████████████████████████████████| 14000/14000 [02:18<00:00, 27.41draws/s]\n",
      "The number of effective samples is smaller than 25% for some parameters.\n"
     ]
    }
   ],
   "source": [
    "model_isfet = pm.Model()\n",
    "'''\n",
    "with model_isfet:\n",
    "    mu_a = pm.Uniform('mu_a',0,20)\n",
    "    sd_a = pm.Uniform('sd_a',0,20)\n",
    "    mu_b = pm.Uniform('mu_b',0,20)\n",
    "    sd_b = pm.Uniform('sd_b',0,20)\n",
    "    alpha = pm.Normal('alpha', mu=mu_a, sigma=sd_a)\n",
    "    beta = pm.Normal('beta', mu=mu_b, sigma=sd_b)\n",
    "    epsilon = pm.Uniform('epsilon', 0,20)\n",
    "    sd_vref = pm.Uniform('vref_sd', 0,1)\n",
    "    voltage = pm.Normal('Voltage',mu=alpha*temp + beta*time + epsilon, sigma=sd_vref,observed=y)\n",
    "    trace = sample(3000, cores=2)\n",
    "'''\n",
    "with model_isfet:\n",
    "    alpha = pm.Uniform('alpha',0,50)\n",
    "    beta = pm.Uniform('beta',0,50)\n",
    "    epsilon = pm.Uniform('epsilon', 0,20)\n",
    "    sd_vref = pm.Uniform('vref_sd', 0,1)\n",
    "    voltage = pm.Normal('Voltage',mu= 20-np.exp(-alpha-beta*x), sigma=sd_vref,observed=y)\n",
    "    step = pm.Metropolis()\n",
    "    trace = pm.sample(3000, step=step)    "
   ]
  },
  {
   "cell_type": "code",
   "execution_count": 41,
   "metadata": {},
   "outputs": [
    {
     "name": "stderr",
     "output_type": "stream",
     "text": [
      "C:\\Users\\dcsbhr\\AppData\\Local\\Continuum\\anaconda3\\envs\\edward_env\\lib\\site-packages\\ipykernel_launcher.py:8: MatplotlibDeprecationWarning: \n",
      "The 'normed' kwarg was deprecated in Matplotlib 2.1 and will be removed in 3.1. Use 'density' instead.\n",
      "  \n",
      "C:\\Users\\dcsbhr\\AppData\\Local\\Continuum\\anaconda3\\envs\\edward_env\\lib\\site-packages\\ipykernel_launcher.py:13: MatplotlibDeprecationWarning: \n",
      "The 'normed' kwarg was deprecated in Matplotlib 2.1 and will be removed in 3.1. Use 'density' instead.\n",
      "  del sys.path[0]\n"
     ]
    },
    {
     "data": {
      "text/plain": [
       "\"\\n%matplotlib inline\\n\\nfrom pymc3 import  *\\n\\nimport numpy as np\\nimport matplotlib.pyplot as plt\\n\\nsize = 200\\ntrue_intercept = 1\\ntrue_slope = 2\\n\\nx = np.linspace(0, 1, size)\\n# y = a + b*x\\ntrue_regression_line = true_intercept + true_slope * x\\n# add noise\\ny = true_regression_line + np.random.normal(scale=.5, size=size)\\n\\ndata = dict(x=x, y=y)\\n\\nfig = plt.figure(figsize=(7, 7))\\nax = fig.add_subplot(111, xlabel='x', ylabel='y', title='Generated data and underlying model')\\nax.plot(x, y, 'x', label='sampled data')\\nax.plot(x, true_regression_line, label='true regression line', lw=2.)\\nplt.legend(loc=0);\\n\""
      ]
     },
     "execution_count": 41,
     "metadata": {},
     "output_type": "execute_result"
    },
    {
     "data": {
      "image/png": "[encoded data removed]",
      "text/plain": [
       "<Figure size 432x288 with 2 Axes>"
      ]
     },
     "metadata": {
      "needs_background": "light"
     },
     "output_type": "display_data"
    }
   ],
   "source": [
    "alpha_samples = trace[\"alpha\"][1000:, None]  # best to make them 1d\n",
    "beta_samples = trace[\"beta\"][1000:, None]\n",
    "\n",
    "#histogram of the samples:\n",
    "plt.subplot(211)\n",
    "plt.title(r\"Posterior distributions of the variables $\\alpha, \\beta$\")\n",
    "plt.hist(beta_samples, histtype='stepfilled', bins=35, alpha=0.85,\n",
    "         label=r\"posterior of $\\beta$\", color=\"#7A68A6\", normed=True)\n",
    "plt.legend()\n",
    "\n",
    "plt.subplot(212)\n",
    "plt.hist(alpha_samples, histtype='stepfilled', bins=35, alpha=0.85,\n",
    "         label=r\"posterior of $\\alpha$\", color=\"#A60628\", normed=True)\n",
    "plt.legend();\n",
    "'''\n",
    "%matplotlib inline\n",
    "\n",
    "from pymc3 import  *\n",
    "\n",
    "import numpy as np\n",
    "import matplotlib.pyplot as plt\n",
    "\n",
    "size = 200\n",
    "true_intercept = 1\n",
    "true_slope = 2\n",
    "\n",
    "x = np.linspace(0, 1, size)\n",
    "# y = a + b*x\n",
    "true_regression_line = true_intercept + true_slope * x\n",
    "# add noise\n",
    "y = true_regression_line + np.random.normal(scale=.5, size=size)\n",
    "\n",
    "data = dict(x=x, y=y)\n",
    "\n",
    "fig = plt.figure(figsize=(7, 7))\n",
    "ax = fig.add_subplot(111, xlabel='x', ylabel='y', title='Generated data and underlying model')\n",
    "ax.plot(x, y, 'x', label='sampled data')\n",
    "ax.plot(x, true_regression_line, label='true regression line', lw=2.)\n",
    "plt.legend(loc=0);\n",
    "'''"
   ]
  },
  {
   "cell_type": "code",
   "execution_count": 42,
   "metadata": {},
   "outputs": [],
   "source": [
    "alpha_mean = alpha_samples.mean()\n",
    "beta_mean = beta_samples.mean()"
   ]
  },
  {
   "cell_type": "code",
   "execution_count": 43,
   "metadata": {},
   "outputs": [
    {
     "data": {
      "text/plain": [
       "[<matplotlib.lines.Line2D at 0x2564fb9dc50>]"
      ]
     },
     "execution_count": 43,
     "metadata": {},
     "output_type": "execute_result"
    },
    {
     "data": {
      "image/png": "[encoded data removed]",
      "text/plain": [
       "<Figure size 504x504 with 1 Axes>"
      ]
     },
     "metadata": {
      "needs_background": "light"
     },
     "output_type": "display_data"
    }
   ],
   "source": [
    "fig = plt.figure(figsize=(7, 7))\n",
    "y_pred = 20-np.exp(-alpha_mean - beta_mean*x)\n",
    "ax = fig.add_subplot(111,  xlabel='x', ylabel='y', title='Generated data and underlying model')\n",
    "ax.plot(x, y_pred, 'x', label='sampled data')"
   ]
  },
  {
   "cell_type": "code",
   "execution_count": null,
   "metadata": {},
   "outputs": [],
   "source": []
  }
 ],
 "metadata": {
  "kernelspec": {
   "display_name": "Python 3",
   "language": "python",
   "name": "python3"
  },
  "language_info": {
   "codemirror_mode": {
    "name": "ipython",
    "version": 3
   },
   "file_extension": ".py",
   "mimetype": "text/x-python",
   "name": "python",
   "nbconvert_exporter": "python",
   "pygments_lexer": "ipython3",
   "version": "3.6.7"
  }
 },
 "nbformat": 4,
 "nbformat_minor": 2
}
