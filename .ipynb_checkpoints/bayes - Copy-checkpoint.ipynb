{
 "cells": [
  {
   "cell_type": "code",
   "execution_count": 1,
   "metadata": {},
   "outputs": [
    {
     "name": "stderr",
     "output_type": "stream",
     "text": [
      "WARNING (theano.configdefaults): g++ not available, if using conda: `conda install m2w64-toolchain`\n",
      "C:\\Users\\dcsbhr\\AppData\\Local\\Continuum\\anaconda3\\envs\\edward_env\\lib\\site-packages\\theano\\configdefaults.py:560: UserWarning: DeprecationWarning: there is no c++ compiler.This is deprecated and with Theano 0.11 a c++ compiler will be mandatory\n",
      "  warnings.warn(\"DeprecationWarning: there is no c++ compiler.\"\n",
      "WARNING (theano.configdefaults): g++ not detected ! Theano will be unable to execute optimized C-implementations (for both CPU and GPU) and will default to Python implementations. Performance will be severely degraded. To remove this warning, set Theano flags cxx to an empty string.\n",
      "WARNING (theano.tensor.blas): Using NumPy C-API based implementation for BLAS functions.\n"
     ]
    }
   ],
   "source": [
    "import pymc3 as pm\n",
    "import pandas as pd\n",
    "import numpy as np\n",
    "\n",
    "%matplotlib inline\n",
    "\n",
    "import matplotlib\n",
    "import numpy as np\n",
    "import matplotlib.pyplot as plt"
   ]
  },
  {
   "cell_type": "code",
   "execution_count": 2,
   "metadata": {},
   "outputs": [],
   "source": [
    "data = pd.read_excel('./data/Book.xlsx')"
   ]
  },
  {
   "cell_type": "code",
   "execution_count": 3,
   "metadata": {},
   "outputs": [],
   "source": [
    "mins = []\n",
    "for r in range(len(data)):\n",
    "    mins.append(data.iloc[r]['time']//600) \n",
    "    \n",
    "data['minute'] = mins"
   ]
  },
  {
   "cell_type": "code",
   "execution_count": 12,
   "metadata": {},
   "outputs": [
    {
     "data": {
      "text/plain": [
       "[<matplotlib.lines.Line2D at 0x1427e01e4e0>]"
      ]
     },
     "execution_count": 12,
     "metadata": {},
     "output_type": "execute_result"
    },
    {
     "data": {
      "image/png": "[encoded data removed]",
      "text/plain": [
       "<Figure size 504x504 with 1 Axes>"
      ]
     },
     "metadata": {
      "needs_background": "light"
     },
     "output_type": "display_data"
    }
   ],
   "source": [
    "#print(data)\n",
    "#x = data[data['minute'] == 0]['Temperature']\n",
    "#y = data[data['minute'] == 0]['V(vref)']\n",
    "x = data[data['Temperature'] == 65]['minute']\n",
    "y = data[data['Temperature'] == 65]['V(vref)']\n",
    "\n",
    "temp = np.array(data['Temperature'])\n",
    "time = np.array(data['minute'])\n",
    "#y = data[data[]]\n",
    "#fig = plt.figure(figsize=(7, 7))\n",
    "#ax = fig.add_subplot(111, xlabel='x', ylabel='y', title='Generated data and underlying model')\n",
    "#ax.plot(data['time'], data['V(vref)'], 'x', label='sampled data')\n",
    "#ax.plot(x, true_regression_line, label='true regression line', lw=2.)\n",
    "#plt.legend(loc=0);\n",
    "fig = plt.figure(figsize=(7, 7))\n",
    "ax = fig.add_subplot(111,  xlabel='x', ylabel='y', title='Generated data and underlying model')\n",
    "ax.plot(x, y, 'x', label='sampled data')"
   ]
  },
  {
   "cell_type": "code",
   "execution_count": null,
   "metadata": {},
   "outputs": [
    {
     "name": "stderr",
     "output_type": "stream",
     "text": [
      "C:\\Users\\dcsbhr\\AppData\\Local\\Continuum\\anaconda3\\envs\\edward_env\\lib\\site-packages\\pymc3\\tuning\\starting.py:61: UserWarning: find_MAP should not be used to initialize the NUTS sampler, simply call pymc3.sample() and it will automatically initialize NUTS in a better way.\n",
      "  warnings.warn('find_MAP should not be used to initialize the NUTS sampler, simply call pymc3.sample() and it will automatically initialize NUTS in a better way.')\n",
      "logp = -17,749, ||grad|| = 0.0021472: 100%|█████████████████████████████████████████████| 82/82 [00:01<00:00, 70.51it/s]\n",
      "Multiprocess sampling (4 chains in 4 jobs)\n",
      "CompoundStep\n",
      ">Metropolis: [vref_sd]\n",
      ">Metropolis: [epsilon]\n",
      ">Metropolis: [beta]\n",
      ">Metropolis: [alpha]\n",
      "Sampling 4 chains:   5%|██▊                                                 | 25592/482000 [04:04<1:18:40, 96.68draws/s]"
     ]
    }
   ],
   "source": [
    "model_isfet = pm.Model()\n",
    "'''\n",
    "with model_isfet:\n",
    "    mu_a = pm.Uniform('mu_a',0,20)\n",
    "    sd_a = pm.Uniform('sd_a',0,20)\n",
    "    mu_b = pm.Uniform('mu_b',0,20)\n",
    "    sd_b = pm.Uniform('sd_b',0,20)\n",
    "    alpha = pm.Normal('alpha', mu=mu_a, sigma=sd_a)\n",
    "    beta = pm.Normal('beta', mu=mu_b, sigma=sd_b)\n",
    "    epsilon = pm.Uniform('epsilon', 0,20)\n",
    "    sd_vref = pm.Uniform('vref_sd', 0,1)\n",
    "    voltage = pm.Normal('Voltage',mu=alpha*temp + beta*time + epsilon, sigma=sd_vref,observed=y)\n",
    "    trace = sample(3000, cores=2)\n",
    "'''\n",
    "with model_isfet:\n",
    "    alpha = pm.Uniform('alpha',0,50)\n",
    "    beta = pm.Uniform('beta',0,50)\n",
    "    epsilon = pm.Uniform('epsilon', 0,20)\n",
    "    sd_vref = pm.Uniform('vref_sd', 0,1)\n",
    "    voltage = pm.Normal('Voltage',mu= 20-np.exp(alpha-beta*x), sigma=sd_vref,observed=y)\n",
    "    start = pm.find_MAP()\n",
    "    step = pm.Metropolis()\n",
    "    trace = pm.sample(120000, step=step, start=start)    "
   ]
  },
  {
   "cell_type": "code",
   "execution_count": 75,
   "metadata": {},
   "outputs": [
    {
     "ename": "NameError",
     "evalue": "name 'trace' is not defined",
     "output_type": "error",
     "traceback": [
      "\u001b[0;31m---------------------------------------------------------------------------\u001b[0m",
      "\u001b[0;31mNameError\u001b[0m                                 Traceback (most recent call last)",
      "\u001b[0;32m<ipython-input-75-a66fc551f509>\u001b[0m in \u001b[0;36m<module>\u001b[0;34m\u001b[0m\n\u001b[0;32m----> 1\u001b[0;31m \u001b[0mtrace\u001b[0m\u001b[0;34m\u001b[0m\u001b[0;34m\u001b[0m\u001b[0m\n\u001b[0m\u001b[1;32m      2\u001b[0m '''\n\u001b[1;32m      3\u001b[0m \u001b[0;34m%\u001b[0m\u001b[0mmatplotlib\u001b[0m \u001b[0minline\u001b[0m\u001b[0;34m\u001b[0m\u001b[0;34m\u001b[0m\u001b[0m\n\u001b[1;32m      4\u001b[0m \u001b[0;34m\u001b[0m\u001b[0m\n\u001b[1;32m      5\u001b[0m \u001b[0;32mfrom\u001b[0m \u001b[0mpymc3\u001b[0m \u001b[0;32mimport\u001b[0m  \u001b[0;34m*\u001b[0m\u001b[0;34m\u001b[0m\u001b[0;34m\u001b[0m\u001b[0m\n",
      "\u001b[0;31mNameError\u001b[0m: name 'trace' is not defined"
     ]
    }
   ],
   "source": [
    "trace\n",
    "'''\n",
    "%matplotlib inline\n",
    "\n",
    "from pymc3 import  *\n",
    "\n",
    "import numpy as np\n",
    "import matplotlib.pyplot as plt\n",
    "\n",
    "size = 200\n",
    "true_intercept = 1\n",
    "true_slope = 2\n",
    "\n",
    "x = np.linspace(0, 1, size)\n",
    "# y = a + b*x\n",
    "true_regression_line = true_intercept + true_slope * x\n",
    "# add noise\n",
    "y = true_regression_line + np.random.normal(scale=.5, size=size)\n",
    "\n",
    "data = dict(x=x, y=y)\n",
    "\n",
    "fig = plt.figure(figsize=(7, 7))\n",
    "ax = fig.add_subplot(111, xlabel='x', ylabel='y', title='Generated data and underlying model')\n",
    "ax.plot(x, y, 'x', label='sampled data')\n",
    "ax.plot(x, true_regression_line, label='true regression line', lw=2.)\n",
    "plt.legend(loc=0);\n",
    "'''"
   ]
  },
  {
   "cell_type": "code",
   "execution_count": 48,
   "metadata": {},
   "outputs": [
    {
     "data": {
      "text/plain": [
       "2"
      ]
     },
     "execution_count": 48,
     "metadata": {},
     "output_type": "execute_result"
    }
   ],
   "source": [
    "true_slope"
   ]
  },
  {
   "cell_type": "code",
   "execution_count": null,
   "metadata": {},
   "outputs": [],
   "source": []
  }
 ],
 "metadata": {
  "kernelspec": {
   "display_name": "Python 3",
   "language": "python",
   "name": "python3"
  },
  "language_info": {
   "codemirror_mode": {
    "name": "ipython",
    "version": 3
   },
   "file_extension": ".py",
   "mimetype": "text/x-python",
   "name": "python",
   "nbconvert_exporter": "python",
   "pygments_lexer": "ipython3",
   "version": "3.6.7"
  }
 },
 "nbformat": 4,
 "nbformat_minor": 2
}
