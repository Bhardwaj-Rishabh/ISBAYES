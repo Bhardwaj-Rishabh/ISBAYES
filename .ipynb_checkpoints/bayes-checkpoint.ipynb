{
 "cells": [
  {
   "cell_type": "code",
   "execution_count": 2,
   "metadata": {},
   "outputs": [],
   "source": [
    "import pymc3 as pm\n",
    "import pandas as pd\n",
    "import numpy as np\n",
    "\n",
    "%matplotlib inline\n",
    "\n",
    "import matplotlib\n",
    "import numpy as np\n",
    "import matplotlib.pyplot as plt"
   ]
  },
  {
   "cell_type": "code",
   "execution_count": 3,
   "metadata": {},
   "outputs": [
    {
     "data": {
      "text/plain": [
       "'1.0.4'"
      ]
     },
     "execution_count": 3,
     "metadata": {},
     "output_type": "execute_result"
    }
   ],
   "source": [
    "data = pd.read_excel('./data/Book.xlsx')\n",
    "import theano\n",
    "theano.__version__"
   ]
  },
  {
   "cell_type": "code",
   "execution_count": 4,
   "metadata": {},
   "outputs": [],
   "source": [
    "# adding a column of minutes in the data\n",
    "mins = []\n",
    "for r in range(len(data)):\n",
    "    mins.append(data.iloc[r]['time']//60) \n",
    "    \n",
    "data['minute'] = mins"
   ]
  },
  {
   "cell_type": "code",
   "execution_count": 5,
   "metadata": {},
   "outputs": [
    {
     "data": {
      "text/plain": [
       "<Figure size 7200x7200 with 0 Axes>"
      ]
     },
     "metadata": {},
     "output_type": "display_data"
    },
    {
     "data": {
      "image/png": "[encoded data removed]",
      "text/plain": [
       "<Figure size 432x288 with 11 Axes>"
      ]
     },
     "metadata": {
      "needs_background": "light"
     },
     "output_type": "display_data"
    }
   ],
   "source": [
    "# plotting vref vs time plot for temperature in range 15 to 65 with a gap of 5 deg C\n",
    "fig = plt.figure(figsize=(100, 100))\n",
    "fig, axs = plt.subplots(11, 1)\n",
    "count = 0\n",
    "for T in range(15,65,5):\n",
    "    time = data[data['Temperature'] == T]['minute']\n",
    "    vref = data[data['Temperature'] == T]['V(vref)']\n",
    "    axs[count].plot(time, vref)\n",
    "    axs[count].set_title('Temperature %s' %T)\n",
    "    count += 1"
   ]
  },
  {
   "cell_type": "code",
   "execution_count": 6,
   "metadata": {},
   "outputs": [],
   "source": [
    "'''\n",
    "Initializing model\n",
    "Vref = epsilon - alpha * exp(-beta*time)\n",
    "'''\n",
    "def inferring_parameters(time, vref):\n",
    "    model_isfet = pm.Model()\n",
    "    \n",
    "    with model_isfet:\n",
    "        alpha = pm.Uniform('alpha',0,15)\n",
    "        beta = pm.Uniform('beta',0,15)\n",
    "        epsilon = pm.Uniform('epsilon', 0,20)\n",
    "        sd_vref = pm.Uniform('vref_sd', 0,1)\n",
    "        voltage = pm.Normal('Voltage',mu = epsilon - alpha*np.exp(-beta*time), sigma=sd_vref,observed=vref)\n",
    "        step = pm.Metropolis()\n",
    "        trace = pm.sample(200000, step=step)\n",
    "    \n",
    "    return trace"
   ]
  },
  {
   "cell_type": "code",
   "execution_count": 7,
   "metadata": {},
   "outputs": [
    {
     "name": "stdout",
     "output_type": "stream",
     "text": [
      "Working on Temperaure %s 15\n"
     ]
    },
    {
     "name": "stderr",
     "output_type": "stream",
     "text": [
      "Multiprocess sampling (4 chains in 4 jobs)\n",
      "CompoundStep\n",
      ">Metropolis: [vref_sd]\n",
      ">Metropolis: [epsilon]\n",
      ">Metropolis: [beta]\n",
      ">Metropolis: [alpha]\n",
      "Sampling 4 chains: 100%|██████████████████████████████████████████████████| 802000/802000 [04:52<00:00, 2745.50draws/s]\n",
      "The gelman-rubin statistic is larger than 1.4 for some parameters. The sampler did not converge.\n",
      "The estimated number of effective samples is smaller than 200 for some parameters.\n"
     ]
    },
    {
     "name": "stdout",
     "output_type": "stream",
     "text": [
      "Working on Temperaure %s 20\n"
     ]
    },
    {
     "name": "stderr",
     "output_type": "stream",
     "text": [
      "Multiprocess sampling (4 chains in 4 jobs)\n",
      "CompoundStep\n",
      ">Metropolis: [vref_sd]\n",
      ">Metropolis: [epsilon]\n",
      ">Metropolis: [beta]\n",
      ">Metropolis: [alpha]\n",
      "Sampling 4 chains: 100%|██████████████████████████████████████████████████| 802000/802000 [04:58<00:00, 2682.83draws/s]\n",
      "The gelman-rubin statistic is larger than 1.4 for some parameters. The sampler did not converge.\n",
      "The estimated number of effective samples is smaller than 200 for some parameters.\n"
     ]
    },
    {
     "name": "stdout",
     "output_type": "stream",
     "text": [
      "Working on Temperaure %s 25\n"
     ]
    },
    {
     "name": "stderr",
     "output_type": "stream",
     "text": [
      "Multiprocess sampling (4 chains in 4 jobs)\n",
      "CompoundStep\n",
      ">Metropolis: [vref_sd]\n",
      ">Metropolis: [epsilon]\n",
      ">Metropolis: [beta]\n",
      ">Metropolis: [alpha]\n",
      "Sampling 4 chains: 100%|██████████████████████████████████████████████████| 802000/802000 [07:26<00:00, 1798.10draws/s]\n",
      "The estimated number of effective samples is smaller than 200 for some parameters.\n"
     ]
    },
    {
     "name": "stdout",
     "output_type": "stream",
     "text": [
      "Working on Temperaure %s 30\n"
     ]
    },
    {
     "name": "stderr",
     "output_type": "stream",
     "text": [
      "Multiprocess sampling (4 chains in 4 jobs)\n",
      "CompoundStep\n",
      ">Metropolis: [vref_sd]\n",
      ">Metropolis: [epsilon]\n",
      ">Metropolis: [beta]\n",
      ">Metropolis: [alpha]\n",
      "Sampling 4 chains: 100%|██████████████████████████████████████████████████| 802000/802000 [04:59<00:00, 2675.17draws/s]\n",
      "The estimated number of effective samples is smaller than 200 for some parameters.\n"
     ]
    },
    {
     "name": "stdout",
     "output_type": "stream",
     "text": [
      "Working on Temperaure %s 35\n"
     ]
    },
    {
     "name": "stderr",
     "output_type": "stream",
     "text": [
      "Multiprocess sampling (4 chains in 4 jobs)\n",
      "CompoundStep\n",
      ">Metropolis: [vref_sd]\n",
      ">Metropolis: [epsilon]\n",
      ">Metropolis: [beta]\n",
      ">Metropolis: [alpha]\n",
      "Sampling 4 chains: 100%|██████████████████████████████████████████████████| 802000/802000 [06:12<00:00, 2153.58draws/s]\n",
      "The number of effective samples is smaller than 10% for some parameters.\n"
     ]
    },
    {
     "name": "stdout",
     "output_type": "stream",
     "text": [
      "Working on Temperaure %s 40\n"
     ]
    },
    {
     "name": "stderr",
     "output_type": "stream",
     "text": [
      "Multiprocess sampling (4 chains in 4 jobs)\n",
      "CompoundStep\n",
      ">Metropolis: [vref_sd]\n",
      ">Metropolis: [epsilon]\n",
      ">Metropolis: [beta]\n",
      ">Metropolis: [alpha]\n",
      "Sampling 4 chains: 100%|██████████████████████████████████████████████████| 802000/802000 [05:01<00:00, 2660.20draws/s]\n",
      "The number of effective samples is smaller than 10% for some parameters.\n"
     ]
    },
    {
     "name": "stdout",
     "output_type": "stream",
     "text": [
      "Working on Temperaure %s 45\n"
     ]
    },
    {
     "name": "stderr",
     "output_type": "stream",
     "text": [
      "Multiprocess sampling (4 chains in 4 jobs)\n",
      "CompoundStep\n",
      ">Metropolis: [vref_sd]\n",
      ">Metropolis: [epsilon]\n",
      ">Metropolis: [beta]\n",
      ">Metropolis: [alpha]\n",
      "Sampling 4 chains: 100%|██████████████████████████████████████████████████| 802000/802000 [04:49<00:00, 2773.58draws/s]\n",
      "The number of effective samples is smaller than 10% for some parameters.\n"
     ]
    },
    {
     "name": "stdout",
     "output_type": "stream",
     "text": [
      "Working on Temperaure %s 50\n"
     ]
    },
    {
     "name": "stderr",
     "output_type": "stream",
     "text": [
      "Multiprocess sampling (4 chains in 4 jobs)\n",
      "CompoundStep\n",
      ">Metropolis: [vref_sd]\n",
      ">Metropolis: [epsilon]\n",
      ">Metropolis: [beta]\n",
      ">Metropolis: [alpha]\n",
      "Sampling 4 chains: 100%|██████████████████████████████████████████████████| 802000/802000 [05:02<00:00, 2650.47draws/s]\n",
      "The number of effective samples is smaller than 10% for some parameters.\n"
     ]
    },
    {
     "name": "stdout",
     "output_type": "stream",
     "text": [
      "Working on Temperaure %s 55\n"
     ]
    },
    {
     "name": "stderr",
     "output_type": "stream",
     "text": [
      "Multiprocess sampling (4 chains in 4 jobs)\n",
      "CompoundStep\n",
      ">Metropolis: [vref_sd]\n",
      ">Metropolis: [epsilon]\n",
      ">Metropolis: [beta]\n",
      ">Metropolis: [alpha]\n",
      "Sampling 4 chains: 100%|██████████████████████████████████████████████████| 802000/802000 [05:00<00:00, 2668.98draws/s]\n",
      "The number of effective samples is smaller than 10% for some parameters.\n"
     ]
    },
    {
     "name": "stdout",
     "output_type": "stream",
     "text": [
      "Working on Temperaure %s 60\n"
     ]
    },
    {
     "name": "stderr",
     "output_type": "stream",
     "text": [
      "Multiprocess sampling (4 chains in 4 jobs)\n",
      "CompoundStep\n",
      ">Metropolis: [vref_sd]\n",
      ">Metropolis: [epsilon]\n",
      ">Metropolis: [beta]\n",
      ">Metropolis: [alpha]\n",
      "Sampling 4 chains: 100%|██████████████████████████████████████████████████| 802000/802000 [04:56<00:00, 2701.43draws/s]\n",
      "The number of effective samples is smaller than 10% for some parameters.\n"
     ]
    },
    {
     "name": "stdout",
     "output_type": "stream",
     "text": [
      "Working on Temperaure %s 65\n"
     ]
    },
    {
     "name": "stderr",
     "output_type": "stream",
     "text": [
      "Multiprocess sampling (4 chains in 4 jobs)\n",
      "CompoundStep\n",
      ">Metropolis: [vref_sd]\n",
      ">Metropolis: [epsilon]\n",
      ">Metropolis: [beta]\n",
      ">Metropolis: [alpha]\n",
      "Sampling 4 chains: 100%|██████████████████████████████████████████████████| 802000/802000 [05:01<00:00, 2661.13draws/s]\n",
      "The number of effective samples is smaller than 10% for some parameters.\n"
     ]
    }
   ],
   "source": [
    "Traces = {}\n",
    "for T in range(15,66,5):\n",
    "    print(\"Working on Temperaure %s\", %T)\n",
    "    time = data[data['Temperature'] == T]['minute']\n",
    "    vref = data[data['Temperature'] == T]['V(vref)']\n",
    "    trace = inferring_parameters(time, vref)\n",
    "    Traces[T] = trace"
   ]
  },
  {
   "cell_type": "code",
   "execution_count": 8,
   "metadata": {},
   "outputs": [],
   "source": [
    "import pickle as pk\n",
    "pk.dump(Traces, open('Traces','wb'))"
   ]
  },
  {
   "cell_type": "code",
   "execution_count": null,
   "metadata": {},
   "outputs": [],
   "source": [
    "print(trace[\"epsilon\"][::3][1000:,None])\n",
    "epsilon_samples = trace[\"epsilon\"][::3][1000:,None]\n",
    "alpha_samples = trace[\"alpha\"][::3][1000:,None]  # best to make them 1d\n",
    "beta_samples = trace[\"beta\"][::3][1000:,None]\n",
    "\n",
    "fig = plt.figure(figsize=(10, 10))\n",
    "#histogram of the samples:\n",
    "plt.subplot(411)\n",
    "plt.title(r\"Posterior distributions of the variables $\\alpha$, $\\beta$, and $\\epsilon$\")\n",
    "plt.hist(alpha_samples, histtype='stepfilled', bins=35, alpha=0.85,\n",
    "         label=r\"posterior of $\\alpha$\", color=\"#A60628\", normed=True)\n",
    "plt.legend();\n",
    "\n",
    "plt.subplot(412)\n",
    "plt.hist(beta_samples, histtype='stepfilled', bins=35, alpha=0.85,\n",
    "         label=r\"posterior of $\\beta$\", color=\"#7A68A6\", normed=True)\n",
    "plt.legend()\n",
    "\n",
    "plt.subplot(413)\n",
    "plt.hist(epsilon_samples, histtype='stepfilled', bins=35, alpha=0.85,\n",
    "         label=r\"posterior of $\\epsilon$\", color=\"#A60628\", normed=True)\n",
    "plt.legend();\n",
    "\n",
    "'''\n",
    "%matplotlib inline\n",
    "\n",
    "from pymc3 import  *\n",
    "\n",
    "import numpy as np\n",
    "import matplotlib.pyplot as plt\n",
    "\n",
    "size = 200\n",
    "true_intercept = 1\n",
    "true_slope = 2\n",
    "\n",
    "x = np.linspace(0, 1, size)\n",
    "# y = a + b*x\n",
    "true_regression_line = true_intercept + true_slope * x\n",
    "# add noise\n",
    "y = true_regression_line + np.random.normal(scale=.5, size=size)\n",
    "\n",
    "data = dict(x=x, y=y)\n",
    "\n",
    "fig = plt.figure(figsize=(7, 7))\n",
    "ax = fig.add_subplot(111, xlabel='x', ylabel='y', title='Generated data and underlying model')\n",
    "ax.plot(x, y, 'x', label='sampled data')\n",
    "ax.plot(x, true_regression_line, label='true regression line', lw=2.)\n",
    "plt.legend(loc=0);\n",
    "'''"
   ]
  },
  {
   "cell_type": "code",
   "execution_count": null,
   "metadata": {},
   "outputs": [],
   "source": [
    "epsilon_mean = epsilon_samples.mean()\n",
    "alpha_mean = alpha_samples.mean()\n",
    "beta_mean = beta_samples.mean()\n",
    "print(epsilon_mean, alpha_mean, beta_mean)"
   ]
  },
  {
   "cell_type": "code",
   "execution_count": null,
   "metadata": {},
   "outputs": [],
   "source": [
    "fig = plt.figure(figsize=(7, 7))\n",
    "y_pred = epsilon_mean - alpha_mean*np.exp(-beta_mean*x)\n",
    "ax = fig.add_subplot(111,  xlabel='x', ylabel='y', title='Generated data and underlying model')\n",
    "ax.plot(x, y_pred, 'r', label='sampled data')\n",
    "ax.plot(x, y, 'g')"
   ]
  },
  {
   "cell_type": "code",
   "execution_count": null,
   "metadata": {},
   "outputs": [],
   "source": []
  }
 ],
 "metadata": {
  "kernelspec": {
   "display_name": "Python 3",
   "language": "python",
   "name": "python3"
  },
  "language_info": {
   "codemirror_mode": {
    "name": "ipython",
    "version": 3
   },
   "file_extension": ".py",
   "mimetype": "text/x-python",
   "name": "python",
   "nbconvert_exporter": "python",
   "pygments_lexer": "ipython3",
   "version": "3.6.8"
  }
 },
 "nbformat": 4,
 "nbformat_minor": 2
}
